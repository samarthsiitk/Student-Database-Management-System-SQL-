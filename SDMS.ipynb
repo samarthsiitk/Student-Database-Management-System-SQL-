{
 "cells": [
  {
   "cell_type": "code",
   "execution_count": 4,
   "id": "85c5124f",
   "metadata": {},
   "outputs": [],
   "source": [
    "import mysql.connector"
   ]
  },
  {
   "cell_type": "code",
   "execution_count": 6,
   "id": "1d6457cc",
   "metadata": {},
   "outputs": [],
   "source": [
    "from __future__ import print_function\n",
    "\n",
    "localhost = \"localhost\"\n",
    "\n",
    "yourusername = \"Adarsh1\"\n",
    "\n",
    "yourpassword = \"Adarsh@@@SQL\"\n",
    "\n",
    "yourdbname = \"college\"\n",
    "\n",
    "connection = mysql.connector.connect( host=localhost, user=yourusername, passwd=yourpassword, db=yourdbname )\n",
    "\n",
    "\n",
    "cursor = connection.cursor()"
   ]
  },
  {
   "cell_type": "code",
   "execution_count": 7,
   "id": "4f68e288",
   "metadata": {},
   "outputs": [],
   "source": [
    "def add_students(student_id, first_name, last_name, branch, gender,cpi, DOB, phone, email, fathers_phone, fathers_email, course1, course2, course3):\n",
    "    query = \"INSERT INTO Students VALUES (%s, %s, %s, %s, %s ,%s)\"\n",
    "    cursor.execute(query, (student_id, first_name, last_name, branch, gender,cpi))\n",
    "    query = \"INSERT INTO Student_info VALUES (%s, %s, %s, %s, %s, %s)\"\n",
    "    cursor.execute(query, (student_id,  DOB, phone, email, fathers_phone, fathers_email))\n",
    "    query = \"INSERT INTO Student_courses VALUES (%s, %s, %s, %s)\"\n",
    "    cursor.execute(query, (student_id, course1, course2, course3))\n",
    "    connection.commit()"
   ]
  },
  {
   "cell_type": "code",
   "execution_count": 8,
   "id": "2a56d209",
   "metadata": {},
   "outputs": [],
   "source": [
    "def add_profs(prof_id, first_name, last_name, department, gender, phone, email, office_no):\n",
    "    query = \"INSERT INTO Professors VALUES (%s, %s, %s, %s, %s, %s, %s, %s)\"\n",
    "    cursor.execute(query, (prof_id, first_name, last_name, department, gender, phone, email, office_no))\n",
    "    connection.commit()"
   ]
  },
  {
   "cell_type": "code",
   "execution_count": 9,
   "id": "c180a4b4",
   "metadata": {},
   "outputs": [],
   "source": [
    "while(1):\n",
    "    x=int(input(\"1.Add Students: \\n2.Exit: \\n\"))\n",
    "    if(x==1):\n",
    "        student_id = (input(\"Student ID: \"))\n",
    "        first_name = (input(\"First Name: \"))\n",
    "        last_name = (input(\"Last Name: \"))\n",
    "        branch = (input(\"Branch: \"))\n",
    "        gender = (input(\"Gender: \"))\n",
    "        cpi = (input(\"CPI: \"))\n",
    "        DOB = (input(\"DOB: \"))\n",
    "        phone = (input(\"Phone No.: \"))\n",
    "        email = (input(\"Email ID: \"))\n",
    "        fathers_phone = (input(\"Father's Phone: \"))\n",
    "        fathers_email = (input(\"Father's Email ID: \"))\n",
    "        course1 =(input(\"Course No. 1: \"))\n",
    "        course2 =(input(\"Course No. 2: \"))\n",
    "        course3 =(input(\"Course No. 3: \")) \n",
    "        add_students(student_id, first_name, last_name, branch, gender,cpi, DOB, phone, email, fathers_phone, fathers_email, course1, course2, course3)\n",
    "    else:\n",
    "        break"
   ]
  },
  {
   "cell_type": "code",
   "execution_count": 10,
   "id": "85e02f0d",
   "metadata": {},
   "outputs": [],
   "source": [
    "while(1):\n",
    "    x=int(input(\"1.Add Profs: \\n2.Exit: \\n\"))\n",
    "    if(x==1):\n",
    "        prof_id = (input(\"Professor ID: \"))\n",
    "        first_name = (input(\"First Name: \"))\n",
    "        last_name = (input(\"Last Name: \"))\n",
    "        department = (input(\"Department: \"))\n",
    "        gender =(input(\"Gender: \"))\n",
    "        phone = (input(\"Phone No.: \"))\n",
    "        email = (input(\"Email ID: \"))\n",
    "        office_no = (input(\"Office Number: \"))\n",
    "        add_profs(prof_id, first_name, last_name, department, gender, phone, email, office_no)\n",
    "    else:\n",
    "        break"
   ]
  }
 ],
 "metadata": {
  "kernelspec": {
   "display_name": "Python 3",
   "language": "python",
   "name": "python3"
  },
  "language_info": {
   "codemirror_mode": {
    "name": "ipython",
    "version": 3
   },
   "file_extension": ".py",
   "mimetype": "text/x-python",
   "name": "python",
   "nbconvert_exporter": "python",
   "pygments_lexer": "ipython3",
   "version": "3.13.1"
  }
 },
 "nbformat": 4,
 "nbformat_minor": 5
}
